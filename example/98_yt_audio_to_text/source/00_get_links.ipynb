{
  "cells": [
    {
      "cell_type": "code",
      "metadata": {},
      "execution_count": null,
      "outputs": [],
      "source": [
        "# |export\n",
        "#|default_exp p00_get_links\n"
      ]
    },
    {
      "cell_type": "code",
      "metadata": {},
      "execution_count": null,
      "outputs": [],
      "source": [
        "# |export\n",
        "# use helium to get youtube video links\n",
        "import os\n",
        "import time\n",
        "import pathlib\n",
        "import pandas as pd\n",
        "import argparse\n",
        "\n"
      ]
    },
    {
      "cell_type": "code",
      "metadata": {},
      "execution_count": null,
      "outputs": [],
      "source": [
        "# |export\n",
        "from helium import *\n",
        "\n"
      ]
    },
    {
      "cell_type": "code",
      "metadata": {},
      "execution_count": null,
      "outputs": [],
      "source": [
        "# |export\n",
        "start_time=time.time()\n",
        "debug=True\n",
        "_code_git_version=\"0c971fec95c7f7bc3ac93dda06cb5cb3fe82d987\"\n",
        "_code_repository=\"https://github.com/plops/cl-py-generator/tree/master/example/98_yt_audio_to_text/source/\"\n",
        "_code_generation_time=\"05:45:40 of Thursday, 2022-09-22 (GMT+1)\"\n"
      ]
    },
    {
      "cell_type": "code",
      "metadata": {},
      "execution_count": null,
      "outputs": [],
      "source": [
        "# |export\n",
        "start_firefox()\n"
      ]
    },
    {
      "cell_type": "code",
      "metadata": {},
      "execution_count": null,
      "outputs": [],
      "source": [
        "# |export\n",
        "go_to(\"https://www.youtube.com/c/VincentRacaniello/videos\")\n"
      ]
    },
    {
      "cell_type": "code",
      "metadata": {},
      "execution_count": null,
      "outputs": [],
      "source": [
        "# |export\n",
        "# deal with the cookie banner\n",
        "wait_until(Button(\"REJECT ALL\").exists)\n",
        "click(\"REJECT ALL\")\n"
      ]
    },
    {
      "cell_type": "code",
      "metadata": {},
      "execution_count": null,
      "outputs": [],
      "source": [
        "# |export\n",
        "# infinite scrolling to make all the links visible\n",
        "for i in range(120):\n",
        "    press(PAGE_DOWN)\n"
      ]
    },
    {
      "cell_type": "code",
      "metadata": {},
      "execution_count": null,
      "outputs": [],
      "source": [
        "# |export\n",
        "# extract all the links\n",
        "links=find_all(S(\"a.ytd-grid-video-renderer\"))\n"
      ]
    },
    {
      "cell_type": "code",
      "metadata": {},
      "execution_count": null,
      "outputs": [],
      "source": [
        "# |export\n",
        "# store links in pandas  table\n",
        "res=[]\n",
        "for l in links:\n",
        "    text=l.web_element.text\n",
        "    location=l.web_element.location\n",
        "    href=l.web_element.get_attribute(\"href\")\n",
        "    res.append(dict(text=text, location=location, href=href))\n"
      ]
    },
    {
      "cell_type": "code",
      "metadata": {},
      "execution_count": null,
      "outputs": [],
      "source": [
        "# |export\n",
        "# store pandas table in csv file\n",
        "df=pd.DataFrame(res)\n",
        "df.to_csv(\"links.csv\")\n"
      ]
    },
    {
      "cell_type": "code",
      "metadata": {},
      "execution_count": null,
      "outputs": [],
      "source": [
        "# |export\n",
        "# For now I only want videos with names like this:\n",
        "# TWiV 908: COVID-19 clinical update #118 with Dr. Daniel Griffin\n",
        "df2=df[df.text.str.contains(r\"\"\"TWiV .*: COVID-19 clinical update .* with Dr. Daniel Griffin\"\"\")]\n",
        "df2.to_csv(\"links_covid_update.csv\")\n"
      ]
    },
    {
      "cell_type": "code",
      "metadata": {},
      "execution_count": null,
      "outputs": [],
      "source": [
        "# |export\n",
        "kill_browser()\n"
      ]
    },
    {
      "cell_type": "code",
      "metadata": {},
      "execution_count": null,
      "outputs": [],
      "source": [
        "df=pd.read_csv(\"links_covid_update.csv\", index_col=0)\n",
        "df[[\"twiv_nr\", \"covid_update_nr\"]]=df.text.str.extract(r\"\"\"TWiV\\ (\\d+):\\ COVID-19\\ clinical\\ update\\ #(\\d+)\\ with\\ Dr\\.\\ Daniel\\ Griffin\"\"\")\n",
        "df.to_csv(\"links_covid_update_parsed.csv\")\n"
      ]
    }
  ],
  "metadata": {
    "kernelspec": {
      "display_name": "Python 3",
      "language": "python",
      "name": "python3"
    }
  },
  "nbformat": 4,
  "nbformat_minor": 2
}
