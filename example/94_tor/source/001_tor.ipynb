{
  "cells": [
    {
      "cell_type": "code",
      "metadata": {},
      "execution_count": null,
      "outputs": [],
      "source": [
        "# |default_exp tor_01\n"
      ]
    },
    {
      "cell_type": "code",
      "metadata": {},
      "execution_count": null,
      "outputs": [],
      "source": [
        "# |export\n",
        "import argparse\n",
        "import time\n",
        "import hashlib\n",
        "import hmac\n",
        "import logging\n",
        "import operator\n",
        "import random\n",
        "import socket\n",
        "import ssl\n",
        "import struct\n",
        "import traceback\n",
        "import base64\n",
        "import os\n",
        "import sys\n",
        "import time\n",
        "import cryptography.hazmat.backends\n",
        "import cryptography.hazmat.primitives.ciphers\n",
        "import cryptography.hazmat.primitives.ciphers.algorithms\n",
        "import cryptography.hazmat.primitives.ciphers.modes\n",
        "import urllib.request\n",
        "import urllib.parse\n",
        "\n"
      ]
    },
    {
      "cell_type": "code",
      "metadata": {},
      "execution_count": null,
      "outputs": [],
      "source": [
        "# |export\n",
        "indexbytes=operator.getitem\n",
        "intlist2bytes=bytes\n",
        "int2byte=operator.methodcaller(\"to_bytes\", 1, \"big\")\n"
      ]
    },
    {
      "cell_type": "code",
      "metadata": {},
      "execution_count": null,
      "outputs": [],
      "source": [
        "# |export\n",
        "start_time=time.time()\n"
      ]
    },
    {
      "cell_type": "code",
      "metadata": {},
      "execution_count": null,
      "outputs": [],
      "source": [
        "# |export\n",
        "logging.basicConfig(format=\"[%(levelname)s] %(filename)s - %(message)s\", level=logging.INFO)\n",
        "log=logging.getLogger(__name__)\n"
      ]
    },
    {
      "cell_type": "code",
      "metadata": {},
      "execution_count": null,
      "outputs": [],
      "source": [
        "# |export\n",
        "class DirectoryAuthority():\n",
        "    def __init__(self, name = , ip = , dir_port = , tor_port = ):\n",
        "        self.name=name\n",
        "        self.ip=ip\n",
        "        self.dir_port=dir_port\n",
        "        self.tor_port=tor_port\n",
        "    def get_consensus_url(self):\n",
        "        return \"http://{}:{}/tor/status-vote/current/consensus\".format(self.ip, self.dir_port)\n"
      ]
    },
    {
      "cell_type": "code",
      "metadata": {},
      "execution_count": null,
      "outputs": [],
      "source": [
        "# |export\n",
        "class OnionRouter():\n",
        "    def __init__(self, nickname = , ip = , dir_port = , tor_port = , identity = ):\n",
        "        self.nickname=nickname\n",
        "        self.ip=ip\n",
        "        self.dir_port=dir_port\n",
        "        self.tor_port=tor_port\n",
        "        self.identity=identity\n",
        "        self.flags=None\n",
        "        self.key_ntor=None\n",
        "        self._forward_digest=None\n",
        "        self._backward_digest=None\n",
        "        self.encryption_key=None\n",
        "        self.decryption_key=None\n",
        "    def get_descriptor_url(self):\n",
        "        return \"http://{}:{}/tor/server/fp/{}\".format(self.ip, self.dir_port, self.identity)\n",
        "    def parse_descriptor(self):\n",
        "        headers={(\"User-Agent\"):(\"Mozilla/5.0 (Windows NT 6.1; rv:60.0) Gecko/20100101 Firefox/60.0\")}\n",
        "        request=urllib.request.Request(url=self.get_descriptor_url(), headers=headers)\n",
        "        response=urllib.request.urlopen(request, timeout=8)\n",
        "        for line in response:\n",
        "            line=line.decode()\n",
        "            if ( line.startwith(\"ntor-onion-key \") ):\n",
        "                self.key_ntor(line.split(\"ntor-onion-key\")[1].strip())\n",
        "                if ( not(((self.key_ntor[-1])==(\"=\"))) ):\n",
        "                    self.key_ntor += \"=\"\n",
        "                break\n"
      ]
    },
    {
      "cell_type": "code",
      "metadata": {},
      "execution_count": null,
      "outputs": [],
      "source": [
        "# |export\n",
        "class TinyTor():\n",
        "    def __init__(self):\n",
        "        self._consensus=Consensus()\n",
        "        while (True):\n",
        "            try:\n",
        "                directory_authority=self._consensus.get_random_directory_authority()\n",
        "                consensus_url=directory_authority.get_consensus_url()\n",
        "                log.debug(\"{:7.6f} \\033[31m  \\033[0m (directory_authority.name)={} consensus_url={}\".format(((time.time())-(start_time)), directory_authority.name(), consensus_url))\n",
        "                self._consensus.parse_consensus(consensus_url)\n",
        "            except Excpetion as e:\n",
        "                log.error(\"Failed to parse the consensus: {}\".format(e))\n",
        "                log.error(\"Retrying with different directory authority ...\")\n",
        "    def http_get(self, url):\n",
        "        while (True):\n",
        "            try:\n",
        "                guard_relay=self._consensus.get_random_guard_relay()\n",
        "                log.debug(\"{:7.6f} \\033[31m  \\033[0m guard_relay.nickname={} (guard_relay.get_descriptor_url)={}\".format(((time.time())-(start_time)), guard_relay.nickname, guard_relay.get_descriptor_url()))\n",
        "                guard_relay.parse_descriptor()\n",
        "            except Exception as e:\n",
        "                traceback.print_exc()\n",
        "                log.info(\"Retrying with a different guard relay...\")\n"
      ]
    },
    {
      "cell_type": "code",
      "metadata": {},
      "execution_count": null,
      "outputs": [],
      "source": [
        "# |export\n",
        "def main():\n",
        "    parser=argparse.ArgumentParser()\n",
        "    parser.add_argument(\"-H\", \"--host\", help=\"url to reach\", required=\"True\", action=None)\n",
        "    parser.add_argument(\"-v\", \"--verbose\", help=\"enable verbose output\", required=\"False\", action=\"store_true\")\n",
        "    args=parser.parse_args()\n",
        "    parsed_host=urlparse(args.host).geturl()\n",
        "    if ( not(parsed_host) ):\n",
        "        log.error(\"please specify valid url (--host).\")\n",
        "        sys.exit(1)\n",
        "    if ( args.verbose ):\n",
        "        log.setLevel(logging.DEBUG)\n",
        "    tor=TinyTor()\n"
      ]
    }
  ],
  "metadata": {
    "kernelspec": {
      "display_name": "Python 3",
      "language": "python",
      "name": "python3"
    }
  },
  "nbformat": 4,
  "nbformat_minor": 2
}
