{
  "cells": [
    {
      "cell_type": "code",
      "metadata": {},
      "execution_count": null,
      "outputs": [],
      "source": [
        "# default_exp cloud_01\n"
      ]
    },
    {
      "cell_type": "code",
      "metadata": {},
      "execution_count": null,
      "outputs": [],
      "source": [
        "# export\n",
        "import matplotlib.pyplot as plt\n",
        "plt.ion()\n",
        "import pathlib\n",
        "import time\n",
        "import pandas as pd\n",
        "import numpy as np\n",
        "import open3d as o3d\n",
        "from matplotlib.pyplot import plot, figure, scatter, gca, sca, subplots, subplots_adjust, title, xlabel, ylabel, xlim, ylim, grid\n",
        "start_time=time.time()\n"
      ]
    },
    {
      "cell_type": "code",
      "metadata": {},
      "execution_count": null,
      "outputs": [],
      "source": [
        "# export\n",
        "pcd=o3d.io.read_point_cloud(pathlib.Path(\"/home/martin/t5/3d/\").glob(\"Untitled_Scan_*.xyz\"))\n"
      ]
    }
  ],
  "metadata": {
    "kernelspec": {
      "display_name": "Python 3",
      "language": "python",
      "name": "python3"
    }
  },
  "nbformat": 4,
  "nbformat_minor": 2
}
