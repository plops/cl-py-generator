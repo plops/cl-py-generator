{
  "cells": [
    {
      "cell_type": "code",
      "metadata": {},
      "execution_count": null,
      "outputs": [],
      "source": [
        "# |export\n",
        "#|default_exp p00_titanic_from_scratch\n"
      ]
    },
    {
      "cell_type": "code",
      "metadata": {},
      "execution_count": null,
      "outputs": [],
      "source": [
        "# |export\n",
        "import os\n",
        "import time\n",
        "import pathlib\n",
        "import argparse\n",
        "import torch\n",
        "from torch import tensor\n",
        "\n"
      ]
    },
    {
      "cell_type": "code",
      "metadata": {},
      "execution_count": null,
      "outputs": [],
      "source": [
        "# |export\n",
        "start_time=time.time()\n",
        "debug=True\n",
        "_code_git_version=\"6c2f9a414e8bda5836211266611729864e5ea993\"\n",
        "_code_repository=\"https://github.com/plops/cl-py-generator/tree/master/example/96_colab_fastai/source/\"\n",
        "_code_generation_time=\"19:07:01 of Sunday, 2022-08-28 (GMT+1)\"\n",
        "start_time=time.time()\n",
        "debug=True\n"
      ]
    },
    {
      "cell_type": "code",
      "metadata": {},
      "execution_count": null,
      "outputs": [],
      "source": [
        "# |export\n",
        "parser=argparse.ArgumentParser()\n",
        "parser.add_argument(\"-v\", \"--verbose\", help=\"enable verbose output\", action=\"store_true\")\n",
        "args=parser.parse_args()\n"
      ]
    },
    {
      "cell_type": "code",
      "metadata": {},
      "execution_count": null,
      "outputs": [],
      "source": [
        "# |export\n",
        "path=pathlib.Path(\"titanic\")\n",
        "if ( not(path.exists()) ):\n",
        "    import zipfile\n",
        "    import kaggle\n",
        "    kaggle.api.competition_download_cli(str(path))\n",
        "    zipfile.ZipFile(f\"{path}.zip\").extractall(path)\n"
      ]
    },
    {
      "cell_type": "code",
      "metadata": {},
      "execution_count": null,
      "outputs": [],
      "source": [
        "# |export\n",
        "import torch\n",
        "import numpy as np\n",
        "import pandas as pd\n",
        "line_char_width=140\n",
        "np.set_print_options(linewidth=line_char_width)\n",
        "torch.set_print_options(linewidth=line_char_width, sci_mode=False, edgeitems=7)\n",
        "pd.set_option(\"display_width\", line_char_width)\n"
      ]
    },
    {
      "cell_type": "code",
      "metadata": {},
      "execution_count": null,
      "outputs": [],
      "source": [
        "# |export\n",
        "df=pd.read_csv(((path)/(\"train.csv\")))\n",
        "df\n"
      ]
    },
    {
      "cell_type": "code",
      "metadata": {},
      "execution_count": null,
      "outputs": [],
      "source": [
        "df.isna().sum()\n"
      ]
    },
    {
      "cell_type": "code",
      "metadata": {},
      "execution_count": null,
      "outputs": [],
      "source": [
        "# |export\n",
        "mode=df.mode().iloc[0]\n"
      ]
    },
    {
      "cell_type": "code",
      "metadata": {},
      "execution_count": null,
      "outputs": [],
      "source": [
        "# |export\n",
        "df.fillna(modes, inplace=True)\n"
      ]
    },
    {
      "cell_type": "code",
      "metadata": {},
      "execution_count": null,
      "outputs": [],
      "source": [
        "df.isna().sum()\n"
      ]
    },
    {
      "cell_type": "code",
      "metadata": {},
      "execution_count": null,
      "outputs": [],
      "source": [
        "df.describe(include=(np.number,))\n"
      ]
    },
    {
      "cell_type": "code",
      "metadata": {},
      "execution_count": null,
      "outputs": [],
      "source": [
        "df.Fare.hist()\n"
      ]
    },
    {
      "cell_type": "code",
      "metadata": {},
      "execution_count": null,
      "outputs": [],
      "source": [
        "# |export\n",
        "df[\"LogFare\"]=np.log(((1)+(df.Fare)))\n"
      ]
    },
    {
      "cell_type": "code",
      "metadata": {},
      "execution_count": null,
      "outputs": [],
      "source": [
        "# histogram of logarithm of prices no longer shows the 'long' tail\n",
        "df.LogFare.hist()\n"
      ]
    },
    {
      "cell_type": "code",
      "metadata": {},
      "execution_count": null,
      "outputs": [],
      "source": [
        "# look at the three values that are in passenger class. more details about the dataset are here: https://www.kaggle.com/competitions/titanic/data\n",
        "pclasses=df.Pclass.unique()\n",
        "pclasses\n"
      ]
    },
    {
      "cell_type": "code",
      "metadata": {},
      "execution_count": null,
      "outputs": [],
      "source": [
        "# look at columns with non-numeric values\n",
        "df.describe(include=[object])\n"
      ]
    },
    {
      "cell_type": "code",
      "metadata": {},
      "execution_count": null,
      "outputs": [],
      "source": [
        "# |export\n",
        "# replace non-numeric values with numbers by introducing new columns (dummies). The dummy columns will be added to the dataframe df and the 3 original columns are dropped.\n",
        "# Cabin, Name and Ticket contain too many unique values for this approach to be useful\n",
        "df=pd.get_dummies(df, columns=[\"Sex\", \"Pclass\", \"Embarked\"])\n",
        "df.columns\n"
      ]
    },
    {
      "cell_type": "code",
      "metadata": {},
      "execution_count": null,
      "outputs": [],
      "source": [
        "# look at the new dummy columns\n",
        "added_columns=[\"Sex_male\", \"Sex_female\", \"Pclass_1\", \"Pclass_2\", \"Pclass_3\", \"Embarked_C\", \"Embarked_Q\"]\n",
        "df[added_columns].head()\n"
      ]
    },
    {
      "cell_type": "code",
      "metadata": {},
      "execution_count": null,
      "outputs": [],
      "source": [
        "# |export\n",
        "# create dependent variable as tensor\n",
        "t_dep=tensor(df.Survived)\n"
      ]
    },
    {
      "cell_type": "code",
      "metadata": {},
      "execution_count": null,
      "outputs": [],
      "source": [
        "# |export\n",
        "# independent variables are all continuous variables of interest and the newly created columns\n",
        "indep_columns=(([\"Age\", \"SipSp\", \"Parch\", \"LogFare\"])+(added_columns))\n",
        "t_indep=tensor(df[indep_columns].values, dtype=torch.float)\n",
        "t_indep\n"
      ]
    },
    {
      "cell_type": "code",
      "metadata": {},
      "execution_count": null,
      "outputs": [],
      "source": [
        "t_indep.shape\n"
      ]
    },
    {
      "cell_type": "code",
      "metadata": {},
      "execution_count": null,
      "outputs": [],
      "source": [
        "# set up linear model. first we calculate manually a single step for the loss of every row in the dataset. we start with a random coefficient in (-.5,.5) for each column of t_indep\n",
        "torch.manual_seed(442)\n",
        "n_coef=t_indep.shape[1]\n",
        "coefs=((torch.rand(n_coefs))-((0.50    )))\n",
        "coefs\n"
      ]
    },
    {
      "cell_type": "code",
      "metadata": {},
      "execution_count": null,
      "outputs": [],
      "source": [
        "# our predictions are formed by multiplying a row with coefficients and summing them up. we don't need to introduce a bias (or intercept) term by introducing a column containing only ones. Such a 'one' is already present in each row in either the dummy column Sex_male or Sex_female.\n",
        "((t_indep)*(coefs))\n"
      ]
    },
    {
      "cell_type": "code",
      "metadata": {},
      "execution_count": null,
      "outputs": [],
      "source": [
        "# we have a potential problem with the first column Age. Its values are bigger in average than the values in other columns\n",
        "# In the lecture Jeremy mentions two options to normalize Age I can think of two more methods: 1) divide by maximum or 2) subtract mean and divide by std 3) subtract median and divide by MAD 4) find lower 2 perscentile and upper 2 percentile increase the value gap by +/- 10% and use this interval to normalize the input values. In the book jeremy uses 1). 1) and 3) differ by how they handle outliers. The maximum will be influenced a lot by outliers. I would like to know if 3) is better than 1) for typical problems. I think that boils down to how big the training dataset is. Once it is big enough there may be always enough outliers to ensure even the maximum is stable.\n",
        "if ( True ):\n",
        "    # method 1)\n",
        "    vals, indices=t_indep.max(dim=0)\n",
        "    t_indep=((t_indep)/(vals))\n",
        "if ( False ):\n",
        "    # method 2)\n",
        "    means, indices1=t_indep.mean(dim=0)\n",
        "    stdts, indices2=t_indep.std(dim=0)\n",
        "    t_indep=((((t_indep)-(means)))/(stds))\n"
      ]
    },
    {
      "cell_type": "code",
      "metadata": {},
      "execution_count": null,
      "outputs": [],
      "source": [
        "# create predictions by adding up the rows of the product\n",
        "preds=((t_indep)*(coefs)).sum(axis=1)\n"
      ]
    },
    {
      "cell_type": "code",
      "metadata": {},
      "execution_count": null,
      "outputs": [],
      "source": [
        "# look at first few\n",
        "preds[10:]\n",
        "# as the coefficents were random these predictions are no good\n"
      ]
    },
    {
      "cell_type": "code",
      "metadata": {},
      "execution_count": null,
      "outputs": [],
      "source": [
        "# in order to improve the predictions modify the coefficients with gradient descent\n",
        "# define the loss as the average error between predictions and the dependent\n",
        "loss=torch.abs(((preds)-(t_deps))).mean()\n",
        "loss\n"
      ]
    },
    {
      "cell_type": "code",
      "metadata": {},
      "execution_count": null,
      "outputs": [],
      "source": [
        "# |export\n",
        "# using what we learned in the previous cells create functions to compute predictions and loss\n",
        "def calc_preds(coeffs=None, indeps=None):\n",
        "    return ((indeps)*(coefs)).sum(axis=1)\n",
        "def calc_loss(coeffs=None, indeps=None, deps=None):\n",
        "    preds=calc_preds(coeffs=coeffs, indeps=indeps)\n",
        "    loss=torch.abs(((preds)-(deps))).mean()\n",
        "    return loss\n"
      ]
    },
    {
      "cell_type": "code",
      "metadata": {},
      "execution_count": null,
      "outputs": [],
      "source": [
        "# perform a single 'epoch' of gradient descent manually\n",
        "# tell pytorch that we want to calculate the gradients for the coeffs object. the underscore indicates that the coeffs object will be modified in place\n",
        "coeffs.requires_grad_()\n"
      ]
    },
    {
      "cell_type": "code",
      "metadata": {},
      "execution_count": null,
      "outputs": [],
      "source": [
        "# compute the loss, pytorch will perform book keeping to compute gradients later\n",
        "loss\n"
      ]
    },
    {
      "cell_type": "code",
      "metadata": {},
      "execution_count": null,
      "outputs": [],
      "source": [
        "# compute gradient\n",
        "loss.backward()\n",
        "coeffs.grad\n",
        "# note that every call of backward() adds the gradients to grad\n"
      ]
    },
    {
      "cell_type": "code",
      "metadata": {},
      "execution_count": null,
      "outputs": [],
      "source": [
        "# calling the steps a second time will double the values in .grad\n",
        "loss=calc_loss(coeffs=coeffs, indeps=t_indep, deps=t_dep)\n",
        "loss.backward()\n",
        "coeffs.grad\n"
      ]
    },
    {
      "cell_type": "code",
      "metadata": {},
      "execution_count": null,
      "outputs": [],
      "source": [
        "# we can now perform a single gradient step. the loss should reduce\n",
        "loss=calc_loss(coeffs=coeffs, indeps=t_indep, deps=t_dep)\n",
        "loss.backward()\n",
        "with torch.no_grad():\n",
        "    coeffs.sub_(((coeffs.grad)*((0.10    ))))\n",
        "    coeffs.grad.zero_()\n",
        "    print(calc_loss(coeffs=coeffs, indeps=t_indep, deps=t_dep))\n",
        "# a.sub_(b) subtracts the gradient from coeffs in place (a = a - b) and zero_ clears the gradients\n"
      ]
    },
    {
      "cell_type": "code",
      "metadata": {},
      "execution_count": null,
      "outputs": [],
      "source": [
        "# |export\n",
        "# before we can perform training, we have to create a validation dataset\n",
        "# we do that in the same way as the fastai library does\n",
        "import fastai.data.transforms\n",
        "# get training (trn) and validation indices (val)\n",
        "trn, val=(fastai.data.transforms.RandomSplitter(seed=42))((df))\n"
      ]
    },
    {
      "cell_type": "code",
      "metadata": {},
      "execution_count": null,
      "outputs": [],
      "source": [
        "# |export\n",
        "trn_indep=t_indep[trn]\n",
        "val_indep=t_indep[val]\n",
        "trn_dep=t_dep[trn]\n",
        "val_dep=t_dep[val]\n",
        "len(trn_indep), len(val_indep)\n"
      ]
    }
  ],
  "metadata": {
    "kernelspec": {
      "display_name": "Python 3",
      "language": "python",
      "name": "python3"
    }
  },
  "nbformat": 4,
  "nbformat_minor": 2
}
