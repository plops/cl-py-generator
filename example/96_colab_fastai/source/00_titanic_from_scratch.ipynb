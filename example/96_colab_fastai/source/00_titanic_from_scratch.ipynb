{
  "cells": [
    {
      "cell_type": "code",
      "metadata": {},
      "execution_count": null,
      "outputs": [],
      "source": [
        "# |export\n",
        "#|default_exp p00_titanic_from_scratch\n"
      ]
    },
    {
      "cell_type": "code",
      "metadata": {},
      "execution_count": null,
      "outputs": [],
      "source": [
        "# |export\n",
        "import os\n",
        "import time\n",
        "import pathlib\n",
        "import argparse\n",
        "\n"
      ]
    },
    {
      "cell_type": "code",
      "metadata": {},
      "execution_count": null,
      "outputs": [],
      "source": [
        "# |export\n",
        "start_time=time.time()\n",
        "debug=True\n",
        "_code_git_version=\"765d0414b7fb5dc76059b704a4ee329282438469\"\n",
        "_code_repository=\"https://github.com/plops/cl-py-generator/tree/master/example/96_colab_fastai/source/\"\n",
        "_code_generation_time=\"22:51:37 of Saturday, 2022-08-27 (GMT+1)\"\n",
        "start_time=time.time()\n",
        "debug=True\n"
      ]
    },
    {
      "cell_type": "code",
      "metadata": {},
      "execution_count": null,
      "outputs": [],
      "source": [
        "# |export\n",
        "parser=argparse.ArgumentParser()\n",
        "parser.add_argument(\"-v\", \"--verbose\", help=\"enable verbose output\", action=\"store_true\")\n",
        "args=parser.parse_args()\n"
      ]
    },
    {
      "cell_type": "code",
      "metadata": {},
      "execution_count": null,
      "outputs": [],
      "source": [
        "# |export\n",
        "path=pathlib.Path(\"titanic\")\n",
        "if ( not(path.exists()) ):\n",
        "    import zipfile\n",
        "    import kaggle\n",
        "\n"
      ]
    }
  ],
  "metadata": {
    "kernelspec": {
      "display_name": "Python 3",
      "language": "python",
      "name": "python3"
    }
  },
  "nbformat": 4,
  "nbformat_minor": 2
}
