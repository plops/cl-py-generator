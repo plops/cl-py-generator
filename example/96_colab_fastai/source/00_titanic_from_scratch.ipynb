{
  "cells": [
    {
      "cell_type": "code",
      "metadata": {},
      "execution_count": null,
      "outputs": [],
      "source": [
        "# |export\n",
        "format(, #|default_exp p~a_~a, *idx*, notebook-name)\n"
      ]
    },
    {
      "cell_type": "code",
      "metadata": {},
      "execution_count": null,
      "outputs": [],
      "source": [
        "# |export\n",
        "import os\n",
        "import time\n",
        "import pathlib\n",
        "import argparse\n",
        "\n"
      ]
    },
    {
      "cell_type": "code",
      "metadata": {},
      "execution_count": null,
      "outputs": [],
      "source": [
        "# |export\n",
        "start_time=time.time()\n",
        "debug=True\n",
        "_code_git_version=\"de8fc9cb3f6f64b0c20ecd68062233f7aa738465\"\n",
        "_code_repository=\"https://github.com/plops/cl-py-generator/tree/master/example/96_colab_fastai/source/\"\n",
        "_code_generation_time=\"22:32:35 of Saturday, 2022-08-27 (GMT+1)\"\n",
        "start_time=time.time()\n",
        "debug=True\n"
      ]
    },
    {
      "cell_type": "code",
      "metadata": {},
      "execution_count": null,
      "outputs": [],
      "source": [
        "# |export\n",
        "parser=argparse.ArgumentParser()\n",
        "parser.add_argument(\"-v\", \"--verbose\", help=\"enable verbose output\", action=\"store_true\")\n",
        "args=parser.parse_args()\n"
      ]
    }
  ],
  "metadata": {
    "kernelspec": {
      "display_name": "Python 3",
      "language": "python",
      "name": "python3"
    }
  },
  "nbformat": 4,
  "nbformat_minor": 2
}
