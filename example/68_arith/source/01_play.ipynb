{
  "cells": [
    {
      "cell_type": "code",
      "metadata": {},
      "execution_count": null,
      "outputs": [],
      "source": [
        "# default_exp play01\n"
      ]
    },
    {
      "cell_type": "code",
      "metadata": {},
      "execution_count": null,
      "outputs": [],
      "source": [
        "#export\n",
        "import matplotlib\n",
        "import matplotlib.pyplot as plt\n",
        "plt.ion()\n",
        "import time\n",
        "import numpy as np\n",
        "import pandas as pd\n",
        "import xarray as xr\n",
        "import matplotlib\n",
        "import xarray.plot as xrp\n",
        "from flint import *\n",
        "from matplotlib.pyplot import plot, imshow, tight_layout, xlabel, ylabel, title, subplot, subplot2grid, grid, legend, figure, gcf, xlim, ylim\n"
      ]
    },
    {
      "cell_type": "markdown",
      "metadata": {},
      "source": [
        "http://www.flintlib.org/\n",
        "\n"
      ]
    },
    {
      "cell_type": "code",
      "metadata": {},
      "execution_count": null,
      "outputs": [],
      "source": [
        "#export\n",
        "_code_git_version=\"bdcbc4696db16e38cefae324f6b415cd15b111ab\"\n",
        "_code_repository=\"https://github.com/plops/cl-py-generator/tree/master//example/68_arith/source/01_play.ipynb\"\n",
        "_code_generation_time=\"23:32:26 of Thursday, 2024-05-09 (GMT+1)\"\n",
        "start_time=time.time()\n",
        "debug=True\n"
      ]
    },
    {
      "cell_type": "code",
      "metadata": {},
      "execution_count": null,
      "outputs": [],
      "source": [
        "#export\n",
        "df_status=pd.DataFrame([dict(name=\"numpy\", version=np.__version__), dict(name=\"pandas\", version=pd.__version__), dict(name=\"xarray\", version=xr.__version__), dict(name=\"matplotlib\", version=matplotlib.__version__)])\n",
        "display(df_status)\n"
      ]
    },
    {
      "cell_type": "code",
      "metadata": {},
      "execution_count": null,
      "outputs": [],
      "source": [
        "a=fmpz_poly([1, 2, 3])\n",
        "b=fmpz_poly([2, 3, 4])\n",
        "a.gcd(((a)*(b)))\n"
      ]
    },
    {
      "cell_type": "code",
      "metadata": {},
      "execution_count": null,
      "outputs": [],
      "source": [
        "showgood(lambda : ((((arb.pi())*(((10)**(100)))))+(((arb(1))/(1000)))).sin(), dps=25)\n"
      ]
    },
    {
      "cell_type": "code",
      "metadata": {},
      "execution_count": null,
      "outputs": [],
      "source": [
        "# acb .. complex number\n",
        "ctx.dps=30\n",
        "((acb.integral(lambda x, _: ((-x)**(2)).exp(), -100, 100))**(2))\n"
      ]
    }
  ],
  "metadata": {
    "kernelspec": {
      "display_name": "Python 3",
      "language": "python",
      "name": "python3"
    }
  },
  "nbformat": 4,
  "nbformat_minor": 2
}
