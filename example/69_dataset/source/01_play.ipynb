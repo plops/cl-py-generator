{
  "cells": [
    {
      "cell_type": "code",
      "metadata": {},
      "execution_count": null,
      "outputs": [],
      "source": [
        "# default_exp play01\n"
      ]
    },
    {
      "cell_type": "code",
      "metadata": {},
      "execution_count": null,
      "outputs": [],
      "source": [
        "#export\n",
        "import matplotlib\n",
        "import matplotlib.pyplot as plt\n",
        "plt.ion()\n",
        "import time\n",
        "import numpy as np\n",
        "import pandas as pd\n",
        "import xarray as xr\n",
        "import matplotlib\n",
        "import dataset as ds\n",
        "import xarray.plot as xrp\n",
        "from matplotlib.pyplot import plot, imshow, tight_layout, xlabel, ylabel, title, subplot, subplot2grid, grid, legend, figure, gcf, xlim, ylim\n"
      ]
    },
    {
      "cell_type": "code",
      "metadata": {},
      "execution_count": null,
      "outputs": [],
      "source": [
        "_code_git_version=\"bdcbc4696db16e38cefae324f6b415cd15b111ab\"\n",
        "_code_repository=\"https://github.com/plops/cl-py-generator/tree/master//example/69_dataset/source/01_play.ipynb\"\n",
        "_code_generation_time=\"23:32:38 of Thursday, 2024-05-09 (GMT+1)\"\n",
        "start_time=time.time()\n",
        "debug=True\n"
      ]
    },
    {
      "cell_type": "code",
      "metadata": {},
      "execution_count": null,
      "outputs": [],
      "source": [
        "#export\n",
        "df_status=pd.DataFrame([dict(name=\"numpy\", version=np.__version__), dict(name=\"pandas\", version=pd.__version__), dict(name=\"xarray\", version=xr.__version__), dict(name=\"matplotlib\", version=matplotlib.__version__), dict(name=\"dataset\", version=ds.__version__)])\n",
        "display(df_status)\n"
      ]
    },
    {
      "cell_type": "code",
      "metadata": {},
      "execution_count": null,
      "outputs": [],
      "source": [
        "db=ds.connect(\"sqlite:///mydatabase.db\")\n"
      ]
    },
    {
      "cell_type": "code",
      "metadata": {},
      "execution_count": null,
      "outputs": [],
      "source": [
        "table=db[\"user\"]\n"
      ]
    },
    {
      "cell_type": "code",
      "metadata": {},
      "execution_count": null,
      "outputs": [],
      "source": [
        "table.insert(dict(name=\"jon do\", age=49, country=\"ch\"))\n",
        "table.insert(dict(name=\"jane do\", age=42, country=\"fr\", gender=\"female\"))\n"
      ]
    },
    {
      "cell_type": "code",
      "metadata": {},
      "execution_count": null,
      "outputs": [],
      "source": [
        "table.update(dict(name=\"jon do\", age=45), [\"name\"])\n"
      ]
    },
    {
      "cell_type": "code",
      "metadata": {},
      "execution_count": null,
      "outputs": [],
      "source": [
        "display(db.tables)\n",
        "display(table.columns)\n",
        "display(list(table.all()))\n"
      ]
    }
  ],
  "metadata": {
    "kernelspec": {
      "display_name": "Python 3",
      "language": "python",
      "name": "python3"
    }
  },
  "nbformat": 4,
  "nbformat_minor": 2
}
