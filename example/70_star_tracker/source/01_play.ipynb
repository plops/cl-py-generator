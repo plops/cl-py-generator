{
  "cells": [
    {
      "cell_type": "code",
      "metadata": {},
      "execution_count": null,
      "outputs": [],
      "source": [
        "# default_exp play01\n"
      ]
    },
    {
      "cell_type": "code",
      "metadata": {},
      "execution_count": null,
      "outputs": [],
      "source": [
        "#export\n",
        "import matplotlib\n",
        "import matplotlib.pyplot as plt\n",
        "plt.ion()\n",
        "import time\n",
        "import numpy as np\n",
        "import pandas as pd\n",
        "import matplotlib\n",
        "import skyfield as s\n",
        "import cv2\n",
        "import xarray.plot as xrp\n",
        "import skimage.restoration\n",
        "import skimage.morphology\n",
        "import argparse\n",
        "import seaborn as sns\n",
        "import skyfield.api\n",
        "import skyfield.data\n",
        "import skyfield.data.hipparcos\n",
        "from cv2 import *\n",
        "from matplotlib.pyplot import plot, imshow, tight_layout, xlabel, ylabel, title, subplot, subplot2grid, grid, legend, figure, gcf, xlim, ylim\n"
      ]
    },
    {
      "cell_type": "code",
      "metadata": {},
      "execution_count": null,
      "outputs": [],
      "source": [
        "#export\n",
        "sns.set_theme()\n",
        "_code_git_version=\"bdcbc4696db16e38cefae324f6b415cd15b111ab\"\n",
        "_code_repository=\"https://github.com/plops/cl-py-generator/tree/master//example/70_star_tracker/source/01_play.ipynb\"\n",
        "_code_generation_time=\"23:33:19 of Thursday, 2024-05-09 (GMT+1)\"\n",
        "start_time=time.time()\n",
        "debug=True\n"
      ]
    },
    {
      "cell_type": "code",
      "metadata": {},
      "execution_count": null,
      "outputs": [],
      "source": [
        "#export\n",
        "df_status=pd.DataFrame([dict(name=\"numpy\", version=np.__version__), dict(name=\"pandas\", version=pd.__version__), dict(name=\"matplotlib\", version=matplotlib.__version__), dict(name=\"skyfield\", version=s.__version__), dict(name=\"cv2\", version=cv2.__version__)])\n",
        "print(df_status)\n"
      ]
    },
    {
      "cell_type": "code",
      "metadata": {},
      "execution_count": null,
      "outputs": [],
      "source": [
        "class ArgsStub():\n",
        "    filename=\"/home/martin/ISS Timelapse - Stars Above The World (29 _ 30 Marzo 2017)-8fCLTeY7tQg.mp4.part\"\n",
        "    threshold=30\n",
        "    skip_frames=0\n",
        "    decimate_frames=1\n"
      ]
    },
    {
      "cell_type": "code",
      "metadata": {},
      "execution_count": null,
      "outputs": [],
      "source": [
        "#export\n",
        "parser=argparse.ArgumentParser()\n",
        "parser.add_argument(\"-i\", dest=\"filename\", required=True, help=\"input file\", metavar=\"FILE\")\n",
        "parser.add_argument(\"-t\", dest=\"threshold\", default=30, help=\"h_maximum threshold\", type=int)\n",
        "parser.add_argument(\"-s\", dest=\"skip_frames\", default=0, help=\"skip frames from the beginning of the file\", type=int)\n",
        "parser.add_argument(\"-d\", dest=\"decimate_frames\", default=1, help=\"skip <N> frames from file before processing the next\", type=int)\n",
        "args=parser.parse_args()\n",
        "print(args)\n"
      ]
    },
    {
      "cell_type": "code",
      "metadata": {},
      "execution_count": null,
      "outputs": [],
      "source": [
        "#export\n",
        "with open(\"/home/martin/stage/cl-py-generator/example/70_star_tracker/source/hip_main.dat\") as f:\n",
        "    hip=skyfield.data.hipparcos.load_dataframe(f)\n",
        "# ra .. 0 360\n",
        "# dec .. -90-90\n",
        "# magnitude .. -2-14, peak at 8\n",
        "# parallax .. -54-300 and few upto 800\n",
        "h=plt.hist2d(hip.ra_degrees, hip.dec_degrees, bins=[np.linspace(0, 360, ((360)//(2))), np.linspace(-90, 90, ((180)//(2)))], cmap=\"cubehelix\", norm=matplotlib.colors.LogNorm())\n",
        "plt.colorbar(h[3])\n",
        "xlabel(\"right ascension [degree]\")\n",
        "ylabel(\"declination [degree]\")\n",
        "xlim(0, 360)\n",
        "ylim(-90, 90)\n",
        "plt.axis(\"equal\")\n",
        "max_mag=6\n",
        "hip[((hip.magnitude)<(max_mag))].plot.scatter(x=\"ra_degrees\", y=\"dec_degrees\", s=1, marker=\",\")\n",
        "xlabel(\"right ascension [degree]\")\n",
        "ylabel(\"declination [degree]\")\n",
        "title(\"stars with magnitude < {}\".format(max_mag))\n",
        "xlim(0, 360)\n",
        "ylim(-90, 90)\n",
        "plt.axis(\"equal\")\n"
      ]
    },
    {
      "cell_type": "code",
      "metadata": {},
      "execution_count": null,
      "outputs": [],
      "source": [
        "#export\n",
        "cap=cv2.VideoCapture(args.filename)\n",
        "if ( not(cap.isOpened()) ):\n",
        "    print(\"error opening video stream or file\")\n",
        "cap.set(cv2.CAP_PROP_POS_FRAMES, args.skip_frames)\n",
        "while (cap.isOpened()):\n",
        "    for n in range(args.decimate_frames):\n",
        "        ret, frame=cap.read()\n",
        "    if ( ret ):\n",
        "        cv2.imshow(\"frame\", frame)\n",
        "        if ( ((((cv2.waitKey(25)) & (255)))==(ord(\"q\"))) ):\n",
        "            break\n",
        "    else:\n",
        "        break\n",
        "cap.release()\n",
        "cv2.destroyAllWindows()\n"
      ]
    }
  ],
  "metadata": {
    "kernelspec": {
      "display_name": "Python 3",
      "language": "python",
      "name": "python3"
    }
  },
  "nbformat": 4,
  "nbformat_minor": 2
}
