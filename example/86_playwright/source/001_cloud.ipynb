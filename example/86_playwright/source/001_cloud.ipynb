{
  "cells": [
    {
      "cell_type": "code",
      "metadata": {},
      "execution_count": null,
      "outputs": [],
      "source": [
        "# default_exp cloud_01\n"
      ]
    },
    {
      "cell_type": "code",
      "metadata": {},
      "execution_count": null,
      "outputs": [],
      "source": [
        "# export\n",
        "import pathlib\n",
        "import time\n",
        "import pandas as pd\n",
        "import numpy as np\n",
        "from playwright.sync_api import sync_playwright\n",
        "start_time=time.time()\n"
      ]
    },
    {
      "cell_type": "code",
      "metadata": {},
      "execution_count": null,
      "outputs": [],
      "source": [
        "# export\n",
        "with sync_playwright() as p:\n",
        "    browser=p.chromium.launch(headless=False)\n",
        "    page=browser.new_page()\n",
        "    page.goto(\"https://quotes.toscrape.com/\")\n",
        "    head_sel=\"//h1/a\"\n",
        "    head=page.query_selector(head_sel)\n",
        "    print(head.inner_text())\n",
        "    login=page.query_selector(\"\"\"[href=\"/login\"]\"\"\")\n",
        "    login.click()\n",
        "    user=page.query_selector(\"\"\"[id=\"username\"]\"\"\")\n",
        "    user.type(\"bla\")\n",
        "    pw=page.query_selector(\"\"\"[id=\"password\"]\"\"\")\n",
        "    pw.type(\"bla\")\n",
        "    page.query_selector(\"\"\"[type='submit']\"\"\").click()\n",
        "    logout_sel=\"\"\"//*[@href='/logout']\"\"\"\n",
        "    try:\n",
        "        logout=page.wait_for_selector(logout_sel, timeout=5000)\n",
        "    except Exception as e:\n",
        "        print(\"failed\")\n",
        "    print(logout.inner_text())\n",
        "    quotes=page.query_selector_all(\"\"\"[class='quote']\"\"\")\n",
        "    for q in quotes:\n",
        "        print(q.query_selector(\".text\").inner_text())\n",
        "    browser.close()\n"
      ]
    }
  ],
  "metadata": {
    "kernelspec": {
      "display_name": "Python 3",
      "language": "python",
      "name": "python3"
    }
  },
  "nbformat": 4,
  "nbformat_minor": 2
}
