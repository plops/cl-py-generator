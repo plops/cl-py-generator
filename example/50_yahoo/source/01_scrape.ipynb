{
  "cells": [
    {
      "cell_type": "code",
      "metadata": {},
      "execution_count": null,
      "outputs": [],
      "source": [
        "%matplotlib notebook\n",
        "import matplotlib\n",
        "import matplotlib.pyplot as plt\n",
        "plt.ion()\n",
        "import time\n",
        "import pathlib\n",
        "import pandas as pd\n",
        "import re\n",
        "import json\n",
        "import csv\n",
        "import bs4\n",
        "import requests\n",
        "import jax.numpy as np\n",
        "import mplfinance as mpf\n",
        "from matplotlib.pyplot import plot, imshow, tight_layout, xlabel, ylabel, title, subplot, subplot2grid, grid, legend, figure, gcf, xlim, ylim\n"
      ]
    },
    {
      "cell_type": "code",
      "metadata": {},
      "execution_count": null,
      "outputs": [],
      "source": [
        "stock=\"F\"\n"
      ]
    },
    {
      "cell_type": "code",
      "metadata": {},
      "execution_count": null,
      "outputs": [],
      "source": [
        "response=requests.get(\"https://finance.yahoo.com/quote/{}/key-statistics?p={}\".format(stock, stock))\n",
        "soup=bs4.BeautifulSoup(response.text, \"html.parser\")\n",
        "pattern=re.compile(r\"\"\"\\s--\\sData\\s--\\s\"\"\")\n",
        "script_data=soup.find(\"script\", text=pattern).contents[0]\n",
        "start=((script_data.find(\"context\"))-(2))\n",
        "json_data=json.loads(script_data[start:-12])\n",
        "x=json_data[\"context\"][\"dispatcher\"][\"stores\"][\"QuoteSummaryStore\"]\n",
        "try:\n",
        "    dat_is=pd.DataFrame(x[\"financialData\"]).transpose()\n",
        "    display(dat_is)\n",
        "except Exception as e:\n",
        "    display(e)\n",
        "    pass\n"
      ]
    },
    {
      "cell_type": "code",
      "metadata": {},
      "execution_count": null,
      "outputs": [],
      "source": [
        "response=requests.get(\"https://finance.yahoo.com/quote/{}/profile?p={}\".format(stock, stock))\n",
        "soup=bs4.BeautifulSoup(response.text, \"html.parser\")\n",
        "pattern=re.compile(r\"\"\"\\s--\\sData\\s--\\s\"\"\")\n",
        "script_data=soup.find(\"script\", text=pattern).contents[0]\n",
        "start=((script_data.find(\"context\"))-(2))\n",
        "json_data=json.loads(script_data[start:-12])\n",
        "x=json_data[\"context\"][\"dispatcher\"][\"stores\"][\"QuoteSummaryStore\"]\n",
        "try:\n",
        "    dat_officer=pd.DataFrame(x[\"assetProfile\"][\"companyOfficers\"])\n",
        "    display(dat_officer)\n",
        "except Exception as e:\n",
        "    display(e)\n",
        "    pass\n",
        "try:\n",
        "    dat_business_summary=x[\"assetProfile\"][\"longBusinessSummary\"]\n",
        "    display(dat_business_summary)\n",
        "except Exception as e:\n",
        "    display(e)\n",
        "    pass\n",
        "try:\n",
        "    dat_sec=pd.DataFrame(x[\"secFilings\"][\"filings\"])\n",
        "    display(dat_sec)\n",
        "except Exception as e:\n",
        "    display(e)\n",
        "    pass\n",
        "try:\n",
        "    dat_summary_detail=pd.DataFrame(x[\"summaryDetail\"]).transpose()\n",
        "    display(dat_summary_detail)\n",
        "except Exception as e:\n",
        "    display(e)\n",
        "    pass\n"
      ]
    },
    {
      "cell_type": "code",
      "metadata": {},
      "execution_count": null,
      "outputs": [],
      "source": [
        "stock_url=\"https://query1.finance.yahoo.com/v7/finance/download/{}?\".format(stock)\n",
        "params=dict(range=\"1y\", interval=\"1d\", events=\"history\", includeAdjustedClose=True)\n",
        "response=requests.get(stock_url, params=params)\n",
        "df_stock=pd.read_csv(io.StringIO(response.text), index_col=0, parse_dates=True)\n",
        "display(df_stock)\n",
        "mpf.plot(df_stock, type=\"candle\", volume=True)\n"
      ]
    },
    {
      "cell_type": "code",
      "metadata": {},
      "execution_count": null,
      "outputs": [],
      "source": [
        "with open(\"/dev/shm/data.json\", \"w\") as outfile:\n",
        "    json.dump(json_data, outfile)\n"
      ]
    }
  ],
  "metadata": {
    "kernelspec": {
      "display_name": "Python 3",
      "language": "python",
      "name": "python3"
    }
  },
  "nbformat": 4,
  "nbformat_minor": 2
}
