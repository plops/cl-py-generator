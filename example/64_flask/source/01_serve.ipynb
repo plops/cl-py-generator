{
  "cells": [
    {
      "cell_type": "code",
      "metadata": {},
      "execution_count": null,
      "outputs": [],
      "source": [
        "# default_exp serve01\n"
      ]
    },
    {
      "cell_type": "code",
      "metadata": {},
      "execution_count": null,
      "outputs": [],
      "source": [
        "#export\n",
        "import time\n",
        "from flask import Flask, render_template, request, redirect, url_for\n"
      ]
    },
    {
      "cell_type": "code",
      "metadata": {},
      "execution_count": null,
      "outputs": [],
      "source": [
        "#export\n",
        "_code_git_version=\"bdcbc4696db16e38cefae324f6b415cd15b111ab\"\n",
        "_code_repository=\"https://github.com/plops/cl-py-generator/tree/master//example/64_flask/source/01_serve.ipynb\"\n",
        "_code_generation_time=\"23:30:32 of Thursday, 2024-05-09 (GMT+1)\"\n",
        "start_time=time.time()\n",
        "debug=True\n"
      ]
    },
    {
      "cell_type": "code",
      "metadata": {},
      "execution_count": null,
      "outputs": [],
      "source": [
        "#export\n",
        "app=Flask(__name__)\n",
        "@app.route(\"/\")\n",
        "def index():\n",
        "    return \"hello world\"\n",
        "# running in jupyter doesn't work just like that: https://stackoverflow.com/questions/41831929/debug-flask-server-inside-jupyter-notebook\n",
        "if ( ((__name__)==(\"__main__\")) ):\n",
        "    app.run(debug=True)\n"
      ]
    }
  ],
  "metadata": {
    "kernelspec": {
      "display_name": "Python 3",
      "language": "python",
      "name": "python3"
    }
  },
  "nbformat": 4,
  "nbformat_minor": 2
}
