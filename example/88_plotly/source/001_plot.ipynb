{
  "cells": [
    {
      "cell_type": "code",
      "metadata": {},
      "execution_count": null,
      "outputs": [],
      "source": [
        "# default_exp plot_01\n"
      ]
    },
    {
      "cell_type": "code",
      "metadata": {},
      "execution_count": null,
      "outputs": [],
      "source": [
        "# export\n",
        "import pathlib\n",
        "import time\n",
        "import pandas as pd\n",
        "import numpy as np\n",
        "import cairo\n",
        "import cufflinks as cf\n",
        "import chart_studio.plotly as py\n",
        "import plotly.express as px\n",
        "import plotly.graph_objects as go\n",
        "%matplotlib inline\n",
        "from plotly.offline import download_plotlyjs, init_notebook_mode, plot, iplot\n",
        "init_notebook_mode(connected=True)\n",
        "cf.go_offline()\n",
        "start_time=time.time()\n"
      ]
    },
    {
      "cell_type": "code",
      "metadata": {},
      "execution_count": null,
      "outputs": [],
      "source": [
        "# export\n",
        "df_=pd.read_csv(\"chart.csv\", delimiter=\";\")\n"
      ]
    },
    {
      "cell_type": "code",
      "metadata": {},
      "execution_count": null,
      "outputs": [],
      "source": [
        "# export\n",
        "rename_dict={(\"time\"):(\"time\"),(\"Engine speed: ---\"):(\"rpm\"),(\"Throttle valve position (absolute): ---\"):(\"valve\"),(\"Coolant temperature: ---\"):(\"cool\"),(\"Standardised airflow ratio: ---\"):(\"airflowrat\"),(\"Air mass, actual value:: ---\"):(\"airmass\"),(\"Engine torque: ---\"):(\"torque\"),(\"Throttle valve position (absolute): ---.1\"):(\"valve1\"),(\"Air cleaner degree of soiling: ---\"):(\"aircleaner\"),(\"Charge air pressure, actual value: ---\"):(\"airpressure\"),(\"Fuel Pressure: ---\"):(\"fuelpressure\"),(\"Exhaust mass flow of EGR: ---\"):(\"exhaustmass\")}\n",
        "df=df_.rename(columns=rename_dict)\n"
      ]
    },
    {
      "cell_type": "code",
      "metadata": {},
      "execution_count": null,
      "outputs": [],
      "source": [
        "# export\n",
        "fig=px.line(df, y=\"rpm\")\n",
        "fig.update_layout(yaxis_range=[800, 2000])\n"
      ]
    },
    {
      "cell_type": "code",
      "metadata": {},
      "execution_count": null,
      "outputs": [],
      "source": [
        "# export\n",
        "fig=px.line(df, y=\"valve\")\n",
        "fig\n"
      ]
    },
    {
      "cell_type": "code",
      "metadata": {},
      "execution_count": null,
      "outputs": [],
      "source": [
        "# export\n",
        "fig=px.line(df, y=\"cool\")\n",
        "fig\n"
      ]
    },
    {
      "cell_type": "code",
      "metadata": {},
      "execution_count": null,
      "outputs": [],
      "source": [
        "# export\n",
        "fig=px.line(df, y=\"airflowrat\")\n",
        "fig.update_layout(yaxis_range=[1, 2])\n"
      ]
    },
    {
      "cell_type": "code",
      "metadata": {},
      "execution_count": null,
      "outputs": [],
      "source": [
        "# export\n",
        "fig=px.line(df, y=\"airmass\")\n",
        "fig.update_layout(yaxis_range=[0, 50])\n"
      ]
    },
    {
      "cell_type": "code",
      "metadata": {},
      "execution_count": null,
      "outputs": [],
      "source": [
        "# export\n",
        "fig=px.line(df, y=\"torque\")\n",
        "fig.update_layout(yaxis_range=[-5, 200])\n"
      ]
    },
    {
      "cell_type": "code",
      "metadata": {},
      "execution_count": null,
      "outputs": [],
      "source": [
        "# export\n",
        "fig=px.line(df, y=\"aircleaner\")\n",
        "fig\n"
      ]
    },
    {
      "cell_type": "code",
      "metadata": {},
      "execution_count": null,
      "outputs": [],
      "source": [
        "# export\n",
        "fig=px.line(df, y=\"airpressure\")\n",
        "fig\n"
      ]
    },
    {
      "cell_type": "code",
      "metadata": {},
      "execution_count": null,
      "outputs": [],
      "source": [
        "# export\n",
        "fig=px.line(df, y=\"fuelpressure\")\n",
        "fig.update_layout(yaxis_range=[(2.00e+4), (1.00e+5)])\n"
      ]
    },
    {
      "cell_type": "code",
      "metadata": {},
      "execution_count": null,
      "outputs": [],
      "source": [
        "# export\n",
        "fig=px.line(df, y=\"exhaustmass\")\n",
        "fig\n"
      ]
    }
  ],
  "metadata": {
    "kernelspec": {
      "display_name": "Python 3",
      "language": "python",
      "name": "python3"
    }
  },
  "nbformat": 4,
  "nbformat_minor": 2
}
