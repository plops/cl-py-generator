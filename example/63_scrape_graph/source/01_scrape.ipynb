{
  "cells": [
    {
      "cell_type": "code",
      "metadata": {},
      "execution_count": null,
      "outputs": [],
      "source": [
        "import time\n",
        "import pandas as pd\n",
        "import bs4\n",
        "import requests\n",
        "import networkx as nx\n"
      ]
    },
    {
      "cell_type": "code",
      "metadata": {},
      "execution_count": null,
      "outputs": [],
      "source": [
        "_code_git_version=\"bdcbc4696db16e38cefae324f6b415cd15b111ab\"\n",
        "_code_repository=\"https://github.com/plops/cl-py-generator/tree/master/example/56_myhdl/source/04_tang_lcd/run_04_lcd.py\"\n",
        "_code_generation_time=\"23:29:59 of Thursday, 2024-05-09 (GMT+1)\"\n",
        "start_time=time.time()\n",
        "debug=True\n"
      ]
    },
    {
      "cell_type": "markdown",
      "metadata": {},
      "source": [
        "    1. Create an empty graph\n    2. Visit Homepage\n    3. Find all HTML a tags and select those that are within the same website\n    4. Create edge between current link and next\n    5. Visit next link\n    6. Repeat...\n"
      ]
    },
    {
      "cell_type": "code",
      "metadata": {},
      "execution_count": null,
      "outputs": [],
      "source": [
        "domain=\"connectingfigures.com\"\n",
        "url=\"https://{}/\".format(domain)\n",
        "processed=[]\n",
        "queue=[url]\n",
        "G=nx.DiGraph()\n",
        "while (queue):\n",
        "    l=queue.pop(0)\n",
        "    req=requests.get(l)\n",
        "    soup=bs4.BeautifulSoup(req.content, \"html.parser\")\n",
        "    links=soup.find_all(\"a\")\n",
        "    links=[ln.get(\"href\") for ln in links if ln.get('href')]\n",
        "    links=[ln.split(\"#\")[0] for ln in links]\n",
        "    links=[ln for ln in links if domain in ln]\n",
        "    links=[ln for ln in links if ln != l]\n",
        "    links=set(links)\n",
        "    to_add=[ln for ln in links if ln not in queue]\n",
        "    to_add=[ln for ln in to_add if ln not in processed]\n",
        "    queue.extend(to_add)\n",
        "    for link in links:\n",
        "        print((l,link,))\n",
        "        G.add_edge(l, link)\n",
        "    processed.append(l)\n"
      ]
    }
  ],
  "metadata": {
    "kernelspec": {
      "display_name": "Python 3",
      "language": "python",
      "name": "python3"
    }
  },
  "nbformat": 4,
  "nbformat_minor": 2
}
