{
  "cells": [
    {
      "cell_type": "code",
      "metadata": {},
      "execution_count": null,
      "outputs": [],
      "source": [
        "# default_exp play01\n"
      ]
    },
    {
      "cell_type": "code",
      "metadata": {},
      "execution_count": null,
      "outputs": [],
      "source": [
        "#export\n",
        "import time\n",
        "import pathlib\n",
        "import numpy as np\n",
        "import cv2 as cv\n",
        "import pandas as pd\n"
      ]
    },
    {
      "cell_type": "code",
      "metadata": {},
      "execution_count": null,
      "outputs": [],
      "source": [
        "#export\n",
        "_code_git_version=\"995b5c34dc5a9e719324ff6a72f86ed15dc0f8f9\"\n",
        "_code_repository=\"https://github.com/plops/cl-py-generator/tree/master//example/76_opencv_cuda/source/01_play.ipynb\"\n",
        "_code_generation_time=\"18:16:41 of Wednesday, 2024-04-24 (GMT+1)\"\n",
        "start_time=time.time()\n",
        "debug=True\n"
      ]
    },
    {
      "cell_type": "code",
      "metadata": {},
      "execution_count": null,
      "outputs": [],
      "source": [
        "#export\n",
        "df_status=pd.DataFrame([dict(name=\"numpy\", version=np.__version__), dict(name=\"cv2\", version=cv.__version__), dict(name=\"pandas\", version=pd.__version__)])\n",
        "print(df_status)\n"
      ]
    },
    {
      "cell_type": "code",
      "metadata": {},
      "execution_count": null,
      "outputs": [],
      "source": [
        "#export\n",
        "# https://docs.opencv.org/4.x/dc/dbb/tutorial_py_calibration.html\n",
        "fns=list(pathlib.Path(\"data/\").glob(\"left*.jpg\"))\n",
        "print(fns)\n"
      ]
    },
    {
      "cell_type": "code",
      "metadata": {},
      "execution_count": null,
      "outputs": [],
      "source": [
        "#export\n",
        "criteria=(((cv.TERM_CRITERIA_EPS)+(cv.TERM_CRITERIA_MAX_ITER)),30,(1.00e-3),)\n",
        "objp=np.zeros([((6)*(7)), 3], np.float32)\n",
        "objp[:,:2]=np.mgrid[0:7,0:6].T.reshape(-1, 2)\n",
        "objpoints=[]\n",
        "imgpoints=[]\n",
        "for fn in fns:\n",
        "    img=cv.imread(str(fn))\n",
        "    gray=cv.cvtColor(img, cv.COLOR_BGR2GRAY)\n",
        "    ret, corners=cv.findChessboardCorners(gray, [7, 6], None)\n",
        "    if ( ret ):\n",
        "        objpoints.append(objp)\n",
        "        corners2=cv.cornerSubPix(gray, corners, [11, 11], [-1, -1], criteria)\n",
        "        imgpoints.append(corners)\n",
        "        cv.drawChessboardCorners(img, [7, 6], corners2, ret)\n",
        "        cv.imshow(\"img\", img)\n",
        "        cv.waitKey(500)\n",
        "cv.destroyAllWindows()\n"
      ]
    },
    {
      "cell_type": "code",
      "metadata": {},
      "execution_count": null,
      "outputs": [],
      "source": [
        "#export\n",
        "ret, mtx, dist, rvecs, tvecs=cv.calibrateCamera(objpoints, imgpoints, gray.shape[::-1], None, None)\n",
        "print(mtx)\n"
      ]
    },
    {
      "cell_type": "code",
      "metadata": {},
      "execution_count": null,
      "outputs": [],
      "source": [
        "#export\n",
        "img=cv.imread(str(fns[0]))\n",
        "h, w=img.shape[:2]\n",
        "new_mtx, roi=cv.getOptimalNewCameraMatrix(mtx, dist, [w, h], 1, [w, h])\n",
        "print(new_mtx)\n"
      ]
    },
    {
      "cell_type": "code",
      "metadata": {},
      "execution_count": null,
      "outputs": [],
      "source": [
        "#export\n",
        "dst=cv.undistort(img, mtx, dist, None, new_mtx)\n",
        "x, y, w, h=roi\n",
        "dst=dst[y:((y)+(h)),x:((x)+(w))]\n",
        "cv.imshow(\"dst\", dst)\n",
        "cv.waitKey(5000)\n",
        "cv.destroyAllWindows()\n"
      ]
    },
    {
      "cell_type": "code",
      "metadata": {},
      "execution_count": null,
      "outputs": [],
      "source": [
        "#export\n",
        "res=(0.    )\n",
        "for i in range(len(objpoints)):\n",
        "    imgpoints2, _=cv.projectPoints(objpoints[i], rvecs[i], tvecs[i], mtx, dist)\n",
        "    err=((cv.norm(imgpoints[i], imgpoints2, cv.NORM_L2))/(len(imgpoints2)))\n",
        "    res += err\n",
        "print(\"mean reprojection error: {:5.3f}px\".format(((res)/(len(objpoints)))))\n"
      ]
    }
  ],
  "metadata": {
    "kernelspec": {
      "display_name": "Python 3",
      "language": "python",
      "name": "python3"
    }
  },
  "nbformat": 4,
  "nbformat_minor": 2
}
