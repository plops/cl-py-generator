{
  "cells": [
    {
      "cell_type": "code",
      "metadata": {},
      "execution_count": null,
      "outputs": [],
      "source": [
        "# default_exp play03_dng\n",
        "# pip3 install --user opencv-python opencv-contrib-python rawpy tqdm\n"
      ]
    },
    {
      "cell_type": "code",
      "metadata": {},
      "execution_count": null,
      "outputs": [],
      "source": [
        "#export\n",
        "import time\n",
        "import pathlib\n",
        "import numpy as np\n",
        "import cv2 as cv\n",
        "import pandas as pd\n",
        "import xarray as xr\n",
        "import rawpy\n",
        "import cv2.aruco\n",
        "import tqdm\n"
      ]
    },
    {
      "cell_type": "code",
      "metadata": {},
      "execution_count": null,
      "outputs": [],
      "source": [
        "#export\n",
        "_code_git_version=\"f86745e09534ee036aa93c2afccf7f6f5ded2293\"\n",
        "_code_repository=\"https://github.com/plops/cl-py-generator/tree/master//example/76_opencv_cuda/source/03_load_dng.ipynb\"\n",
        "_code_generation_time=\"18:17:34 of Wednesday, 2024-04-24 (GMT+1)\"\n",
        "start_time=time.time()\n",
        "debug=True\n"
      ]
    },
    {
      "cell_type": "code",
      "metadata": {},
      "execution_count": null,
      "outputs": [],
      "source": [
        "#export\n",
        "df_status=pd.DataFrame([dict(name=\"numpy\", version=np.__version__), dict(name=\"cv2\", version=cv.__version__), dict(name=\"pandas\", version=pd.__version__), dict(name=\"xarray\", version=xr.__version__), dict(name=\"rawpy\", version=rawpy.__version__)])\n",
        "print(df_status)\n"
      ]
    },
    {
      "cell_type": "code",
      "metadata": {},
      "execution_count": null,
      "outputs": [],
      "source": [
        "#export\n",
        "# https://answers.opencv.org/question/98447/camera-calibration-using-charuco-and-python/\n",
        "aruco_dict=cv.aruco.getPredefinedDictionary(cv.aruco.DICT_4X4_1000)\n",
        "squares_x=49\n",
        "squares_y=28\n",
        "square_length=2\n",
        "marker_length=1\n",
        "board=cv.aruco.CharucoBoard_create(squares_x, squares_y, square_length, marker_length, aruco_dict)\n",
        "out_size=(1960,1120,)\n",
        "board_img=board.draw(out_size)\n",
        "steps_x=5\n",
        "steps_y=5\n"
      ]
    },
    {
      "cell_type": "code",
      "metadata": {},
      "execution_count": null,
      "outputs": [],
      "source": [
        "#export\n",
        "xs_fn=\"calib/checkerboards.nc\"\n",
        "if ( pathlib.Path(xs_fn).exists() ):\n",
        "    start=time.time()\n",
        "    xs=xr.open_dataset(xs_fn)\n",
        "    print(\"duration loading from netcdf {:4.2f}s\".format(((time.time())-(start))))\n",
        "else:\n",
        "    start=time.time()\n",
        "    fns=list(pathlib.Path(\"/home/martin/stage/cl-py-generator/example/76_opencv_cuda/source/calib/\").glob(\"APC*.dng\"))\n",
        "    res=[]\n",
        "    for fn in tqdm.tqdm(fns):\n",
        "        with rawpy.imread(str(fn)) as raw:\n",
        "            res.append(raw.postprocess())\n",
        "    data=np.stack(res, 0)\n",
        "    xs=xr.Dataset(dict(cb=xr.DataArray(data=data, dims=[\"frame\", \"h\", \"w\", \"ch\"], coords=dict(frame=np.arange(data.shape[0]), h=np.arange(data.shape[1]), w=np.arange(data.shape[2]), ch=np.arange(data.shape[3])))))\n",
        "    xs.to_netcdf(xs_fn)\n",
        "    print(\"duration loading from dng and saving netcdf {:4.2f}s\".format(((time.time())-(start))))\n"
      ]
    },
    {
      "cell_type": "code",
      "metadata": {},
      "execution_count": null,
      "outputs": [],
      "source": [
        "#export\n",
        "w=\"cb\"\n",
        "cv.namedWindow(w, cv.WINDOW_NORMAL)\n",
        "cv.resizeWindow(w, 800, 600)\n",
        "decimator=0\n",
        "all_corners=[]\n",
        "all_ids=[]\n",
        "for frame in range(len(xs.frame)):\n",
        "    rgb=xs.cb[frame,...].values\n",
        "    gray=cv.cvtColor(rgb, cv.COLOR_BGR2GRAY)\n",
        "    markers=cv.aruco.detectMarkers(gray, aruco_dict)\n",
        "    if ( ((0)<(len(markers[0]))) ):\n",
        "        corners, ids, num=cv.aruco.interpolateCornersCharuco(markers[0], markers[1], gray, board)\n",
        "        if ( (((corners is not None)) and ((ids is not None)) and (((3)<(corners))) and (((0)==(((decimator)%(3)))))) ):\n",
        "            all_corners.append(corners)\n",
        "            all_ids.append(ids)\n",
        "        cv.aruco.drawDetectedMarkers(gray, markers[0], markers[1])\n",
        "    cv.imshow(w, gray)\n",
        "    cv.setWindowTitle(w, \"frame {}\".format(frame))\n",
        "    cv.waitKey(20)\n",
        "    decimator += 1\n",
        "try:\n",
        "    cal=cv.aruco.calibrateCameraCharuco(all_corners, all_ids, board, gray.shape, None, None)\n",
        "except Exception as e:\n",
        "    print(e)\n",
        "    pass\n",
        "cv.destroyAllWindows()\n"
      ]
    }
  ],
  "metadata": {
    "kernelspec": {
      "display_name": "Python 3",
      "language": "python",
      "name": "python3"
    }
  },
  "nbformat": 4,
  "nbformat_minor": 2
}
