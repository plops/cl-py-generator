{
  "cells": [
    {
      "cell_type": "code",
      "metadata": {},
      "execution_count": null,
      "outputs": [],
      "source": [
        "# default_exp play05\n",
        "# pip3 install --user opencv-python opencv-contrib-python\n"
      ]
    },
    {
      "cell_type": "code",
      "metadata": {},
      "execution_count": null,
      "outputs": [],
      "source": [
        "#export\n",
        "import time\n",
        "import pathlib\n",
        "import numpy as np\n",
        "import cv2 as cv\n",
        "import pandas as pd\n",
        "import cv2.aruco\n"
      ]
    },
    {
      "cell_type": "code",
      "metadata": {},
      "execution_count": null,
      "outputs": [],
      "source": [
        "#export\n",
        "_code_git_version=\"f86745e09534ee036aa93c2afccf7f6f5ded2293\"\n",
        "_code_repository=\"https://github.com/plops/cl-py-generator/tree/master//example/76_opencv_cuda/source/05_show_checkerboard.ipynb\"\n",
        "_code_generation_time=\"18:17:47 of Wednesday, 2024-04-24 (GMT+1)\"\n",
        "start_time=time.time()\n",
        "debug=True\n"
      ]
    },
    {
      "cell_type": "code",
      "metadata": {},
      "execution_count": null,
      "outputs": [],
      "source": [
        "#export\n",
        "df_status=pd.DataFrame([dict(name=\"numpy\", version=np.__version__), dict(name=\"cv2\", version=cv.__version__), dict(name=\"pandas\", version=pd.__version__)])\n",
        "print(df_status)\n"
      ]
    },
    {
      "cell_type": "code",
      "metadata": {},
      "execution_count": null,
      "outputs": [],
      "source": [
        "#export\n",
        "# https://answers.opencv.org/question/98447/camera-calibration-using-charuco-and-python/\n",
        "d=cv.aruco.getPredefinedDictionary(cv.aruco.DICT_5X5_100)\n",
        "squares_x=17\n",
        "squares_y=10\n",
        "square_length=2\n",
        "marker_length=1\n",
        "board=cv.aruco.CharucoBoard_create(squares_x, squares_y, square_length, marker_length, d)\n",
        "out_size=(2040,1200,)\n",
        "board_img=board.draw(out_size)\n",
        "steps_x=1\n",
        "steps_y=1\n",
        "print(\"aruco dictionary can correct at most {} bits\".format(d.maxCorrectionBits))\n",
        "w=\"board\"\n",
        "cv.namedWindow(w, cv.WINDOW_NORMAL)\n",
        "cv.setWindowProperty(w, cv.WND_PROP_FULLSCREEN, cv.WINDOW_FULLSCREEN)\n",
        "for y in np.round(np.linspace(0, 119, steps_y)).astype(int):\n",
        "    for x in np.round(np.linspace(0, 119, steps_x)).astype(int):\n",
        "        cv.imshow(w, board_img[y:((1080)-(y)),x:((1920)+(x))])\n",
        "        cv.waitKey(0)\n",
        "cv.waitKey(500)\n",
        "cv.destroyAllWindows()\n"
      ]
    }
  ],
  "metadata": {
    "kernelspec": {
      "display_name": "Python 3",
      "language": "python",
      "name": "python3"
    }
  },
  "nbformat": 4,
  "nbformat_minor": 2
}
