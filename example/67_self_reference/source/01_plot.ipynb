{
  "cells": [
    {
      "cell_type": "code",
      "metadata": {},
      "execution_count": null,
      "outputs": [],
      "source": [
        "# default_exp plot01\n"
      ]
    },
    {
      "cell_type": "code",
      "metadata": {},
      "execution_count": null,
      "outputs": [],
      "source": [
        "#export\n",
        "import matplotlib\n",
        "import matplotlib.pyplot as plt\n",
        "plt.ion()\n",
        "import time\n",
        "import numpy as np\n",
        "import pandas as pd\n",
        "import xarray as xr\n",
        "import xarray.plot as xrp\n",
        "from matplotlib.pyplot import plot, imshow, tight_layout, xlabel, ylabel, title, subplot, subplot2grid, grid, legend, figure, gcf, xlim, ylim\n"
      ]
    },
    {
      "cell_type": "code",
      "metadata": {},
      "execution_count": null,
      "outputs": [],
      "source": [
        "#export\n",
        "_code_git_version=\"bdcbc4696db16e38cefae324f6b415cd15b111ab\"\n",
        "_code_repository=\"https://github.com/plops/cl-py-generator/tree/master//example/67_self_reference/source/01_plot.ipynb\"\n",
        "_code_generation_time=\"23:31:54 of Thursday, 2024-05-09 (GMT+1)\"\n",
        "start_time=time.time()\n",
        "debug=True\n"
      ]
    },
    {
      "cell_type": "markdown",
      "metadata": {},
      "source": [
        "Twitter Fermat's Library @fermatslibrary Dec 13\n"
      ]
    },
    {
      "cell_type": "code",
      "metadata": {},
      "execution_count": null,
      "outputs": [],
      "source": [
        "#export\n",
        "x=(((0.10    ))*(np.arange(1200)))\n",
        "y=(((0.10    ))*(np.arange(150)))\n",
        "xs=xr.DataArray(data=np.zeros([len(x), len(y)]), dims=[\"x\", \"y\"], coords=dict(x=x, y=y))\n",
        "x2=np.tile(x, [len(y), 1]).transpose()\n",
        "y2=np.tile(y, [len(x), 1])\n",
        "xs.values=((((y2)//(17)))*(np.power(2, ((((-17)*(np.floor(x2))))+(np.mod(np.floor(y2), 17))))))\n"
      ]
    },
    {
      "cell_type": "code",
      "metadata": {},
      "execution_count": null,
      "outputs": [],
      "source": [
        "xs.plot()\n"
      ]
    }
  ],
  "metadata": {
    "kernelspec": {
      "display_name": "Python 3",
      "language": "python",
      "name": "python3"
    }
  },
  "nbformat": 4,
  "nbformat_minor": 2
}
