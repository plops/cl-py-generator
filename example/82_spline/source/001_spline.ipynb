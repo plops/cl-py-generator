{
  "cells": [
    {
      "cell_type": "code",
      "metadata": {},
      "execution_count": null,
      "outputs": [],
      "source": [
        "# default_exp spline_01\n"
      ]
    },
    {
      "cell_type": "code",
      "metadata": {},
      "execution_count": null,
      "outputs": [],
      "source": [
        "# export\n",
        "import matplotlib.pyplot as plt\n",
        "plt.ion()\n",
        "import pathlib\n",
        "import time\n",
        "import tqdm\n",
        "import pandas as pd\n",
        "import numpy as np\n",
        "import numpy.random\n",
        "from matplotlib.pyplot import plot, figure, scatter, gca, sca, subplots, subplots_adjust, title, xlabel, ylabel, xlim, ylim, grid\n",
        "start_time=time.time()\n"
      ]
    },
    {
      "cell_type": "code",
      "metadata": {},
      "execution_count": null,
      "outputs": [],
      "source": [
        "# export\n",
        "print(\"{:7.6f} \\033[31m generate dataset \\033[0m \".format(((time.time())-(start_time))))\n",
        "xmi=(0.30    )\n",
        "xma=(6.70    )\n",
        "x=np.linspace(xmi, xma, 120)\n",
        "y=np.sin(x)\n",
        "plot(x, y)\n",
        "grid()\n"
      ]
    },
    {
      "cell_type": "code",
      "metadata": {},
      "execution_count": null,
      "outputs": [],
      "source": [
        "# export\n",
        "# piecewise linear basis (p. 164)\n",
        "k=12\n",
        "sk=np.linspace(xmi, xma, k)\n",
        "hsk=np.diff(sk)\n",
        "def tent(x, xj, j):\n",
        "    r\"\"\"tent function from set defined by knots xj\"\"\"\n",
        "    dj=((xj)*(0))\n",
        "    dj[j]=1\n",
        "    return np.interp(x, dj)\n"
      ]
    }
  ],
  "metadata": {
    "kernelspec": {
      "display_name": "Python 3",
      "language": "python",
      "name": "python3"
    }
  },
  "nbformat": 4,
  "nbformat_minor": 2
}
