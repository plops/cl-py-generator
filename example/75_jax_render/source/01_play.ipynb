{
  "cells": [
    {
      "cell_type": "code",
      "metadata": {},
      "execution_count": null,
      "outputs": [],
      "source": [
        "# default_exp play01\n"
      ]
    },
    {
      "cell_type": "code",
      "metadata": {},
      "execution_count": null,
      "outputs": [],
      "source": [
        "#export\n",
        "# spread jax work over 4 virtual cpu cores:\n",
        "import os\n",
        "import multiprocessing\n",
        "cpu_count=multiprocessing.cpu_count()\n",
        "print(\"jax will spread work to {} cpus\".format(cpu_count))\n",
        "os.environ[\"XLA_FLAGS\"]=\"--xla_force_host_platform_device_count={}\".format(cpu_count)\n"
      ]
    },
    {
      "cell_type": "code",
      "metadata": {},
      "execution_count": null,
      "outputs": [],
      "source": [
        "#export\n",
        "import time\n",
        "import numpy as np\n",
        "import pandas as pd\n",
        "import jax\n",
        "import gr\n",
        "import argparse\n",
        "import jax.numpy as jnp\n",
        "import jax.config\n",
        "import jax.scipy.optimize\n",
        "import jax.experimental.maps\n",
        "import jax.numpy.linalg\n",
        "import jax.nn\n",
        "import numpy.random\n",
        "from gr.pygr import mlab\n",
        "from jax.experimental.maps import xmap\n"
      ]
    },
    {
      "cell_type": "code",
      "metadata": {},
      "execution_count": null,
      "outputs": [],
      "source": [
        "#export\n",
        "jax.config.update(\"jax_enable_x64\", True)\n",
        "_code_git_version=\"bdcbc4696db16e38cefae324f6b415cd15b111ab\"\n",
        "_code_repository=\"https://github.com/plops/cl-py-generator/tree/master//example/75_jax_render/source/01_play.ipynb\"\n",
        "_code_generation_time=\"23:36:41 of Thursday, 2024-05-09 (GMT+1)\"\n",
        "start_time=time.time()\n",
        "debug=True\n"
      ]
    },
    {
      "cell_type": "code",
      "metadata": {},
      "execution_count": null,
      "outputs": [],
      "source": [
        "#export\n",
        "df_status=pd.DataFrame([dict(name=\"numpy\", version=np.__version__), dict(name=\"pandas\", version=pd.__version__), dict(name=\"jax\", version=jax.__version__), dict(name=\"gr\", version=gr.__version__)])\n",
        "print(df_status)\n"
      ]
    },
    {
      "cell_type": "code",
      "metadata": {},
      "execution_count": null,
      "outputs": [],
      "source": [
        "def volumetric_rendering(color, sigma, z_vals, dirs):\n",
        "    # formulate rendering process for semi-transparent volumes that mimic front-to-back additive blending\n",
        "# as camera ray traverses volume of inhomogeneous material, it accumulates color in proportion to the local color and density of the material at each point along its path\n",
        "    eps=(1.00e-10)\n",
        "    inv_eps=(((1.0    ))/(eps))\n",
        "    z_right=z_vals[...,1:]\n",
        "    z_left=z_vals[...,:-1]\n",
        "    dists=((z_right)-(z_left))\n",
        "    # fraction of light stuck in each voxel\n",
        "    alpha=(((1.0    ))-(jnp.exp(((-1)*(jax.nn.relu(sigma))*(dists)))))\n",
        "    accum_prod=jnp.concatenate([jnp.ones_like(alpha[...,:1], alpha.dtype), jnp.cumprod((((-1.0    ))+(alpha[...,:-1])+(eps)), axis=-1)])\n",
        "    # absolute amount of light stuck in each voxel\n",
        "    weights=((alpha)*(accum_prod))\n",
        "    comp_color=((weights[...,None])*(jax.nn.sigmoid(color))).sum(axis=-2)\n",
        "    # weighted average of the depths by contribution to final color\n",
        "    depth=((weights)*(z_left)).sum(axis=-1)\n",
        "    # total amount of light absorbed along the ray\n",
        "    acc=weights.sum(axis=-1)\n",
        "    # equivalent to disp = 1/max(eps, where(acc>eps,depth/acc,0))\n",
        "# but more efficient and stable\n",
        "# to model occlusions the ray accumulates not only color but also opacity\n",
        "# if accumulated opacity reaches 1 for example when the ray traverses an opaque region then no further color can be accumulated on the ray (not sure if this code behaves like this)\n",
        "    disparity=((acc)/(depth))\n",
        "    disparity=jnp.where(((((0)<(disparity))) & (((disparity)<(inv_eps))) & (((eps)<(acc)))), disparity, inv_eps)\n",
        "    return comp_color\n"
      ]
    }
  ],
  "metadata": {
    "kernelspec": {
      "display_name": "Python 3",
      "language": "python",
      "name": "python3"
    }
  },
  "nbformat": 4,
  "nbformat_minor": 2
}
