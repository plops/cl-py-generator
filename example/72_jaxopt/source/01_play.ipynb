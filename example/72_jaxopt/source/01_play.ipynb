{
  "cells": [
    {
      "cell_type": "code",
      "metadata": {},
      "execution_count": null,
      "outputs": [],
      "source": [
        "# default_exp play01\n"
      ]
    },
    {
      "cell_type": "code",
      "metadata": {},
      "execution_count": null,
      "outputs": [],
      "source": [
        "#export\n",
        "# spread jax work over 4 virtual cpu cores:\n",
        "import os\n",
        "import multiprocessing\n",
        "cpu_count=multiprocessing.cpu_count()\n",
        "print(\"jax will spread work to {} cpus\".format(cpu_count))\n",
        "os.environ[\"XLA_FLAGS\"]=\"--xla_force_host_platform_device_count={}\".format(cpu_count)\n"
      ]
    },
    {
      "cell_type": "code",
      "metadata": {},
      "execution_count": null,
      "outputs": [],
      "source": [
        "#export\n",
        "import matplotlib\n",
        "import matplotlib.pyplot as plt\n",
        "plt.ion()\n",
        "import time\n",
        "import numpy as np\n",
        "import pandas as pd\n",
        "import jax\n",
        "import matplotlib\n",
        "import argparse\n",
        "import jax.numpy as jnp\n",
        "import jax.config\n",
        "import jax.scipy.optimize\n",
        "import jax.experimental.maps\n",
        "import jaxopt\n",
        "import numpy.random\n",
        "from matplotlib.pyplot import plot, imshow, tight_layout, xlabel, ylabel, title, subplot, subplot2grid, grid, legend, figure, gcf, xlim, ylim\n",
        "from jax.experimental.maps import xmap\n"
      ]
    },
    {
      "cell_type": "code",
      "metadata": {},
      "execution_count": null,
      "outputs": [],
      "source": [
        "#export\n",
        "jax.config.update(\"jax_enable_x64\", True)\n",
        "_code_git_version=\"bdcbc4696db16e38cefae324f6b415cd15b111ab\"\n",
        "_code_repository=\"https://github.com/plops/cl-py-generator/tree/master//example/72_jaxopt/source/01_play.ipynb\"\n",
        "_code_generation_time=\"23:33:35 of Thursday, 2024-05-09 (GMT+1)\"\n",
        "start_time=time.time()\n",
        "debug=True\n"
      ]
    },
    {
      "cell_type": "code",
      "metadata": {},
      "execution_count": null,
      "outputs": [],
      "source": [
        "#export\n",
        "df_status=pd.DataFrame([dict(name=\"numpy\", version=np.__version__), dict(name=\"pandas\", version=pd.__version__), dict(name=\"jax\", version=jax.__version__), dict(name=\"matplotlib\", version=matplotlib.__version__)])\n",
        "print(df_status)\n"
      ]
    },
    {
      "cell_type": "code",
      "metadata": {},
      "execution_count": null,
      "outputs": [],
      "source": [
        "#export\n",
        "x=np.linspace(0, 4, 120)\n",
        "y0=np.sin(x)\n",
        "y=((y0)+(np.random.normal(loc=(0.    ), scale=(0.10    ), size=len(x))))\n"
      ]
    },
    {
      "cell_type": "code",
      "metadata": {},
      "execution_count": null,
      "outputs": [],
      "source": [
        "#export\n",
        "# try minimize many replicas with different noise with jax and xmap for named axes\n",
        "n_batch=((4)*(10))\n",
        "def make2d(a):\n",
        "    return a.repeat(n_batch).reshape(-1, n_batch)\n",
        "nx=120\n",
        "x=np.linspace(0, 4, nx)\n",
        "x_2d=make2d(x)\n",
        "y0=np.sin(x)\n",
        "y0_2d=make2d(y0)\n",
        "noise_2d=np.random.normal(loc=(0.    ), scale=(0.10    ), size=y0_2d.shape)\n",
        "y_2d=((y0_2d)+(noise_2d))\n",
        "x0=jnp.array([(0.10    ), (1.0    ), (0.    )])\n",
        "x0_2d=make2d(x0)\n",
        "res=[]\n",
        "def merit3(params, y, x):\n",
        "    phase=params[0]\n",
        "    amplitude=params[1]\n",
        "    offset=params[2]\n",
        "    return jnp.sum(((((y)-(((offset)+(((amplitude)*(jnp.sin(((phase)+(x))))))))))**(2)))\n",
        "mesh_devices=np.array(jax.devices())\n",
        "mesh_def=(mesh_devices,(\"x\",),)\n",
        "distr_jv=xmap(lambda x0, y, x: jax.scipy.optimize.minimize(merit3, x0, args=(y,x,), method=\"BFGS\"), in_axes=({(1):(\"left\")},{(1):(\"left\")},{},), out_axes=[\"left\", ...], axis_resources=dict(left=\"x\"))\n",
        "print(\"initialize jit\")\n",
        "jv0_start=time.time()\n",
        "with jax.experimental.maps.mesh(*mesh_def):\n",
        "    sol0=distr_jv(x0_2d, y_2d, x)\n",
        "jv0_end=time.time()\n",
        "print(\"call jit second time\")\n",
        "jv1_start=time.time()\n",
        "with jax.experimental.maps.mesh(*mesh_def):\n",
        "    sol=distr_jv(x0_2d, y_2d, x)\n",
        "jv1_end=time.time()\n",
        "d=dict(duration_jit_and_call=((jv0_end)-(jv0_start)), duration_call=((jv1_end)-(jv1_start)))\n",
        "d[\"phase\"]=sol.x[:,0].mean().item()\n",
        "d[\"phase_err\"]=sol.x[:,0].std().item()\n",
        "phase=d[\"phase\"]\n",
        "d[\"phase0\"]=x0[0].item()\n",
        "d[\"amplitude\"]=sol.x[:,1].mean().item()\n",
        "d[\"amplitude_err\"]=sol.x[:,1].std().item()\n",
        "amplitude=d[\"amplitude\"]\n",
        "d[\"amplitude0\"]=x0[1].item()\n",
        "d[\"offset\"]=sol.x[:,2].mean().item()\n",
        "d[\"offset_err\"]=sol.x[:,2].std().item()\n",
        "offset=d[\"offset\"]\n",
        "d[\"offset0\"]=x0[2].item()\n",
        "d[\"success\"]=sol.success[:].mean().item()\n",
        "d[\"success_err\"]=sol.success[:].std().item()\n",
        "d[\"status\"]=sol.status[:].mean().item()\n",
        "d[\"status_err\"]=sol.status[:].std().item()\n",
        "d[\"fun\"]=sol.fun[:].mean().item()\n",
        "d[\"fun_err\"]=sol.fun[:].std().item()\n",
        "d[\"nfev\"]=sol.nfev[:].mean().item()\n",
        "d[\"nfev_err\"]=sol.nfev[:].std().item()\n",
        "d[\"njev\"]=sol.njev[:].mean().item()\n",
        "d[\"njev_err\"]=sol.njev[:].std().item()\n",
        "d[\"nit\"]=sol.nit[:].mean().item()\n",
        "d[\"nit_err\"]=sol.nit[:].std().item()\n",
        "res.append(d)\n",
        "df2=pd.DataFrame(res)\n",
        "print(df2.iloc[0])\n",
        "figure(figsize=[12, 8])\n",
        "pl=[2, 1]\n",
        "subplot2grid(pl, [0, 0])\n",
        "plot(x, y0, label=\"noise-free data\")\n",
        "for i in range(n_batch):\n",
        "    plt.scatter(x, y_2d[:,i], label=(\"data with noise\") if (((i)==(0))) else (\"_no_legend_\"), alpha=(9.00e-2), color=\"r\")\n",
        "plot(x, ((offset)+(((amplitude)*(jnp.sin(((phase)+(x))))))), label=\"fit avg\")\n",
        "for i in range(n_batch):\n",
        "    phase=sol.x[i,0].mean().item()\n",
        "    amplitude=sol.x[i,1].mean().item()\n",
        "    offset=sol.x[i,2].mean().item()\n",
        "    plot(x, ((offset)+(((amplitude)*(jnp.sin(((phase)+(x))))))), color=\"k\", label=(\"fit\") if (((i)==(0))) else (\"_no_legend_\"), alpha=(0.10    ))\n",
        "legend()\n",
        "grid()\n",
        "subplot2grid(pl, [1, 0])\n",
        "plot(x, ((y0)-(((offset)+(((amplitude)*(jnp.sin(((phase)+(x))))))))), label=\"residual noise-free data\")\n",
        "plt.scatter(x, ((y)-(((offset)+(((amplitude)*(jnp.sin(((phase)+(x))))))))), label=\"residual data with noise\")\n",
        "legend()\n",
        "grid()\n"
      ]
    }
  ],
  "metadata": {
    "kernelspec": {
      "display_name": "Python 3",
      "language": "python",
      "name": "python3"
    }
  },
  "nbformat": 4,
  "nbformat_minor": 2
}
